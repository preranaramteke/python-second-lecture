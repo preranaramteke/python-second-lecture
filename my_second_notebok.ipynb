{
  "nbformat": 4,
  "nbformat_minor": 0,
  "metadata": {
    "colab": {
      "name": "my second notebok",
      "provenance": []
    },
    "kernelspec": {
      "name": "python3",
      "display_name": "Python 3"
    },
    "accelerator": "GPU"
  },
  "cells": [
    {
      "cell_type": "markdown",
      "metadata": {
        "id": "VEGe6yXmQ_CP",
        "colab_type": "text"
      },
      "source": [
        "My name is Prerana Ramteke\n",
        "I am from Mumbai\n",
        "I am pursuing BAF apart from that i am learning data science from board infinity\n",
        "My goal in life is to become an entreprenuer\n",
        "I also have my own startup named SLIMERA"
      ]
    },
    {
      "cell_type": "markdown",
      "metadata": {
        "id": "-NQIesXpRagb",
        "colab_type": "text"
      },
      "source": [
        "Data science is a new emerging field which has lakhs of jobs available and it also gives us a good salary plus as i read more about it a person likes to solve problems can become data scientists so i think i have that potentional and qualities to become a data scientist."
      ]
    },
    {
      "cell_type": "code",
      "metadata": {
        "id": "e6tHFdy7UMh3",
        "colab_type": "code",
        "outputId": "f23d5d5a-7379-487c-de5b-bd18901669b1",
        "colab": {
          "base_uri": "https://localhost:8080/",
          "height": 35
        }
      },
      "source": [
        "Name = 'Prerana'\n",
        "print(name)"
      ],
      "execution_count": 0,
      "outputs": [
        {
          "output_type": "stream",
          "text": [
            "prerana\n"
          ],
          "name": "stdout"
        }
      ]
    },
    {
      "cell_type": "code",
      "metadata": {
        "id": "s361g9jwUnEs",
        "colab_type": "code",
        "outputId": "e7b365d7-ea6f-46d6-984d-f2ad4cc9b12e",
        "colab": {
          "base_uri": "https://localhost:8080/",
          "height": 35
        }
      },
      "source": [
        "surname = 'Ramteke'\n",
        "print(surname)"
      ],
      "execution_count": 0,
      "outputs": [
        {
          "output_type": "stream",
          "text": [
            "Ramteke\n"
          ],
          "name": "stdout"
        }
      ]
    },
    {
      "cell_type": "code",
      "metadata": {
        "id": "aTCOMBFlUw5g",
        "colab_type": "code",
        "outputId": "0f3681fb-c3e8-4305-c35a-3b75e2725b73",
        "colab": {
          "base_uri": "https://localhost:8080/",
          "height": 35
        }
      },
      "source": [
        "city = 'Mumbai'\n",
        "print (city)"
      ],
      "execution_count": 0,
      "outputs": [
        {
          "output_type": "stream",
          "text": [
            "Mumbai\n"
          ],
          "name": "stdout"
        }
      ]
    },
    {
      "cell_type": "code",
      "metadata": {
        "id": "C3HeSb_XU3Rc",
        "colab_type": "code",
        "outputId": "0db9b59f-dc22-4388-e106-a33d49d2460a",
        "colab": {
          "base_uri": "https://localhost:8080/",
          "height": 35
        }
      },
      "source": [
        "age = '21'\n",
        "print (age)"
      ],
      "execution_count": 0,
      "outputs": [
        {
          "output_type": "stream",
          "text": [
            "21\n"
          ],
          "name": "stdout"
        }
      ]
    },
    {
      "cell_type": "code",
      "metadata": {
        "id": "o6E2kj3SVN0_",
        "colab_type": "code",
        "outputId": "549d0abc-2e48-4366-8e4d-57e5a53131e2",
        "colab": {
          "base_uri": "https://localhost:8080/",
          "height": 35
        }
      },
      "source": [
        "height = '161cms'\n",
        "print (height)"
      ],
      "execution_count": 0,
      "outputs": [
        {
          "output_type": "stream",
          "text": [
            "161cms\n"
          ],
          "name": "stdout"
        }
      ]
    },
    {
      "cell_type": "code",
      "metadata": {
        "id": "kcxjg6mIWeiF",
        "colab_type": "code",
        "outputId": "652e24cb-ea64-4e2e-831c-e4da85e31d69",
        "colab": {
          "base_uri": "https://localhost:8080/",
          "height": 35
        }
      },
      "source": [
        "#favourite numbers\n",
        "List=[5,8,15,25]\n",
        "print(List)"
      ],
      "execution_count": 0,
      "outputs": [
        {
          "output_type": "stream",
          "text": [
            "[5, 8, 15, 25]\n"
          ],
          "name": "stdout"
        }
      ]
    },
    {
      "cell_type": "code",
      "metadata": {
        "id": "KIyU8rA2W8Og",
        "colab_type": "code",
        "outputId": "4a71006a-53a1-44ce-dd3b-f76ce1cc82e2",
        "colab": {
          "base_uri": "https://localhost:8080/",
          "height": 35
        }
      },
      "source": [
        "My_friends = ['rahul','shwetali','meera','aadi','chiku']\n",
        "print(My_friends)"
      ],
      "execution_count": 0,
      "outputs": [
        {
          "output_type": "stream",
          "text": [
            "['rahul', 'shwetali', 'meera', 'aadi', 'chiku']\n"
          ],
          "name": "stdout"
        }
      ]
    },
    {
      "cell_type": "code",
      "metadata": {
        "id": "34N5FZVkXeHY",
        "colab_type": "code",
        "outputId": "726cc154-34c5-4c2d-b3de-6867f3dae3da",
        "colab": {
          "base_uri": "https://localhost:8080/",
          "height": 35
        }
      },
      "source": [
        "My_friends[0]"
      ],
      "execution_count": 0,
      "outputs": [
        {
          "output_type": "execute_result",
          "data": {
            "text/plain": [
              "'rahul'"
            ]
          },
          "metadata": {
            "tags": []
          },
          "execution_count": 30
        }
      ]
    },
    {
      "cell_type": "code",
      "metadata": {
        "id": "kkMlT-3mYVHu",
        "colab_type": "code",
        "outputId": "4cd8e38a-879c-426a-a4ee-00ae45d349dc",
        "colab": {
          "base_uri": "https://localhost:8080/",
          "height": 35
        }
      },
      "source": [
        "List[2]"
      ],
      "execution_count": 0,
      "outputs": [
        {
          "output_type": "execute_result",
          "data": {
            "text/plain": [
              "15"
            ]
          },
          "metadata": {
            "tags": []
          },
          "execution_count": 31
        }
      ]
    },
    {
      "cell_type": "code",
      "metadata": {
        "id": "WfiZTZl3aVpI",
        "colab_type": "code",
        "colab": {}
      },
      "source": [
        "#dictionary\n",
        "myself = {'DOB':'8-7-1998',\n",
        "          'favourite color':'black',\n",
        "          'age':21,\n",
        "          'gender':'female',\n",
        "          'name':'prerana',\n",
        "          'favourite song':'extra mile'}\n",
        "        "
      ],
      "execution_count": 0,
      "outputs": []
    },
    {
      "cell_type": "code",
      "metadata": {
        "id": "P85GHCVsu0oW",
        "colab_type": "code",
        "colab": {
          "base_uri": "https://localhost:8080/",
          "height": 127
        },
        "outputId": "5c68160d-5d61-4a81-a0c4-6889848ee3c9"
      },
      "source": [
        "myself"
      ],
      "execution_count": 15,
      "outputs": [
        {
          "output_type": "execute_result",
          "data": {
            "text/plain": [
              "{'DOB': '8-7-1998',\n",
              " 'age': 21,\n",
              " 'favourite color': 'black',\n",
              " 'favourite song': 'extra mile',\n",
              " 'gender': 'female',\n",
              " 'name': 'prerana'}"
            ]
          },
          "metadata": {
            "tags": []
          },
          "execution_count": 15
        }
      ]
    },
    {
      "cell_type": "code",
      "metadata": {
        "id": "Q1fabp54bpF1",
        "colab_type": "code",
        "colab": {}
      },
      "source": [
        "vegeterian=True\n"
      ],
      "execution_count": 0,
      "outputs": []
    },
    {
      "cell_type": "code",
      "metadata": {
        "id": "3T_sGJX8euqS",
        "colab_type": "code",
        "colab": {}
      },
      "source": [
        "nonvegeterian=False"
      ],
      "execution_count": 0,
      "outputs": []
    },
    {
      "cell_type": "code",
      "metadata": {
        "id": "ZyafAHwye5nz",
        "colab_type": "code",
        "outputId": "c9ea1f99-ef4a-47f6-884f-074ea9db966c",
        "colab": {
          "base_uri": "https://localhost:8080/",
          "height": 35
        }
      },
      "source": [
        "vegeterian"
      ],
      "execution_count": 0,
      "outputs": [
        {
          "output_type": "execute_result",
          "data": {
            "text/plain": [
              "True"
            ]
          },
          "metadata": {
            "tags": []
          },
          "execution_count": 45
        }
      ]
    },
    {
      "cell_type": "code",
      "metadata": {
        "id": "1jfe2X21fCd9",
        "colab_type": "code",
        "colab": {}
      },
      "source": [
        "tenth=\"70%\""
      ],
      "execution_count": 0,
      "outputs": []
    },
    {
      "cell_type": "code",
      "metadata": {
        "id": "iX5Dz2uYvImX",
        "colab_type": "code",
        "colab": {
          "base_uri": "https://localhost:8080/",
          "height": 35
        },
        "outputId": "cace69ba-0714-4c27-f8be-6b2f976d1a0f"
      },
      "source": [
        "tenth"
      ],
      "execution_count": 11,
      "outputs": [
        {
          "output_type": "execute_result",
          "data": {
            "text/plain": [
              "'70%'"
            ]
          },
          "metadata": {
            "tags": []
          },
          "execution_count": 11
        }
      ]
    },
    {
      "cell_type": "code",
      "metadata": {
        "id": "VVXujitnvdJm",
        "colab_type": "code",
        "colab": {}
      },
      "source": [
        "twelth='12%'"
      ],
      "execution_count": 0,
      "outputs": []
    },
    {
      "cell_type": "code",
      "metadata": {
        "id": "E9_GqNiYvtYi",
        "colab_type": "code",
        "colab": {
          "base_uri": "https://localhost:8080/",
          "height": 35
        },
        "outputId": "a7c25058-93b9-4a02-8655-d575e0adc051"
      },
      "source": [
        "twelth"
      ],
      "execution_count": 13,
      "outputs": [
        {
          "output_type": "execute_result",
          "data": {
            "text/plain": [
              "'12%'"
            ]
          },
          "metadata": {
            "tags": []
          },
          "execution_count": 13
        }
      ]
    },
    {
      "cell_type": "code",
      "metadata": {
        "id": "QQfEKmNGvvp9",
        "colab_type": "code",
        "colab": {}
      },
      "source": [
        ""
      ],
      "execution_count": 0,
      "outputs": []
    }
  ]
}