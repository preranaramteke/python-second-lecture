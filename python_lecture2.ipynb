{
  "nbformat": 4,
  "nbformat_minor": 0,
  "metadata": {
    "colab": {
      "name": "python lecture2.ipynb",
      "provenance": []
    },
    "kernelspec": {
      "name": "python3",
      "display_name": "Python 3"
    }
  },
  "cells": [
    {
      "cell_type": "code",
      "metadata": {
        "id": "2qn31Aw2xcoP",
        "colab_type": "code",
        "colab": {}
      },
      "source": [
        ""
      ],
      "execution_count": 0,
      "outputs": []
    },
    {
      "cell_type": "markdown",
      "metadata": {
        "id": "lkPGnaQKyRx4",
        "colab_type": "text"
      },
      "source": [
        "1. if else\n",
        "2.nested if else\n",
        "3.class inheritance\n",
        "4.functions\n",
        "5.type conversion\n",
        "6.modules and packages for ML"
      ]
    },
    {
      "cell_type": "code",
      "metadata": {
        "id": "Nh0K59IK0TSJ",
        "colab_type": "code",
        "colab": {
          "base_uri": "https://localhost:8080/",
          "height": 35
        },
        "outputId": "d3b5b0da-dbf0-4887-892d-8fa742319b9e"
      },
      "source": [
        "age=66\n",
        "if age>60:\n",
        "  print('senior citizen')\n",
        "else:\n",
        "  print('adult')"
      ],
      "execution_count": 2,
      "outputs": [
        {
          "output_type": "stream",
          "text": [
            "senior citizen\n"
          ],
          "name": "stdout"
        }
      ]
    },
    {
      "cell_type": "code",
      "metadata": {
        "id": "n-e6RUwa2t5f",
        "colab_type": "code",
        "colab": {
          "base_uri": "https://localhost:8080/",
          "height": 146
        },
        "outputId": "4c40d3a6-b48e-4210-d073-50a0acbed5f2"
      },
      "source": [
        "#loan eligibiltiy check\n",
        "#define an input variable for income\n",
        "print('enter your income\\n')\n",
        "income= int(input())\n",
        "\n",
        "#define an input variable for ongoing loan\n",
        "print('do you have an ongoing loan\\n')\n",
        "ongoing_loan = str(input())\n",
        "\n",
        "#start the IF statement\n",
        "if income>70000:\n",
        "  if ongoing_loan=='yes':\n",
        "    print('sorry you are not eligible')\n",
        "  else:\n",
        "      print('congrats you are eligible')\n",
        "else:\n",
        "  print('sorry you are not eligible')"
      ],
      "execution_count": 12,
      "outputs": [
        {
          "output_type": "stream",
          "text": [
            "enter your income\n",
            "\n",
            "40000\n",
            "do you have an ongoing loan\n",
            "\n",
            "\n",
            "sorry you are not eligible\n"
          ],
          "name": "stdout"
        }
      ]
    },
    {
      "cell_type": "code",
      "metadata": {
        "id": "-mWYcNvt-Rir",
        "colab_type": "code",
        "colab": {
          "base_uri": "https://localhost:8080/",
          "height": 146
        },
        "outputId": "1fdd115d-dc58-4328-c6ea-4059c6b2824e"
      },
      "source": [
        "#looping is a continious process\n",
        "numbers = [25,8,15,14,21,20,38]\n",
        "for x in numbers:\n",
        "  print(x)"
      ],
      "execution_count": 15,
      "outputs": [
        {
          "output_type": "stream",
          "text": [
            "25\n",
            "8\n",
            "15\n",
            "14\n",
            "21\n",
            "20\n",
            "38\n"
          ],
          "name": "stdout"
        }
      ]
    },
    {
      "cell_type": "code",
      "metadata": {
        "id": "BMBqMYWjS37o",
        "colab_type": "code",
        "colab": {
          "base_uri": "https://localhost:8080/",
          "height": 109
        },
        "outputId": "ed255832-2097-4432-c19f-09fc3f2f4f1e"
      },
      "source": [
        "numbers=(1,2,3,4,5,6,7,8,9,0)\n",
        "for x in numbers:\n",
        "  if x%2!=0:\n",
        "    print(x)"
      ],
      "execution_count": 18,
      "outputs": [
        {
          "output_type": "stream",
          "text": [
            "1\n",
            "3\n",
            "5\n",
            "7\n",
            "9\n"
          ],
          "name": "stdout"
        }
      ]
    },
    {
      "cell_type": "markdown",
      "metadata": {
        "id": "8b9_iFQ6X5JM",
        "colab_type": "text"
      },
      "source": [
        ""
      ]
    },
    {
      "cell_type": "markdown",
      "metadata": {
        "id": "vJ_iXHTgX-yT",
        "colab_type": "text"
      },
      "source": [
        "class inheritance\n"
      ]
    },
    {
      "cell_type": "code",
      "metadata": {
        "id": "4f6PqdgaapFd",
        "colab_type": "code",
        "colab": {
          "base_uri": "https://localhost:8080/",
          "height": 54
        },
        "outputId": "a804a2a2-e800-4ee3-9506-86bf5a465cb9"
      },
      "source": [
        "from sklearn import datasets\n",
        "print(datasets)\n",
        "datasets.load_wine()['feature_names']\n",
        "datasets.load_wine().keys()\n"
      ],
      "execution_count": 25,
      "outputs": [
        {
          "output_type": "stream",
          "text": [
            "<module 'sklearn.datasets' from '/usr/local/lib/python3.6/dist-packages/sklearn/datasets/__init__.py'>\n"
          ],
          "name": "stdout"
        },
        {
          "output_type": "execute_result",
          "data": {
            "text/plain": [
              "dict_keys(['data', 'target', 'target_names', 'DESCR', 'feature_names'])"
            ]
          },
          "metadata": {
            "tags": []
          },
          "execution_count": 25
        }
      ]
    },
    {
      "cell_type": "code",
      "metadata": {
        "id": "IDLk48Aea5sP",
        "colab_type": "code",
        "colab": {}
      },
      "source": [
        "student1={'name':'prerana','age':21,'gender':'female'}\n",
        "student2={'name':'Meera','age':23,'gender':'female'}\n",
        "student3={'name':'pretam','age':41,'gender':'male'}"
      ],
      "execution_count": 0,
      "outputs": []
    },
    {
      "cell_type": "code",
      "metadata": {
        "id": "rE4k4MNqehPF",
        "colab_type": "code",
        "colab": {}
      },
      "source": [
        "def print_keys(student):\n",
        "  print(student2.keys())\n",
        "  "
      ],
      "execution_count": 0,
      "outputs": []
    },
    {
      "cell_type": "code",
      "metadata": {
        "id": "KGXK47wkf1Qe",
        "colab_type": "code",
        "colab": {
          "base_uri": "https://localhost:8080/",
          "height": 35
        },
        "outputId": "99373a21-8870-4d5f-afb3-f490ca7f2261"
      },
      "source": [
        "print_keys(student2)"
      ],
      "execution_count": 29,
      "outputs": [
        {
          "output_type": "stream",
          "text": [
            "dict_keys(['name', 'age', 'gender'])\n"
          ],
          "name": "stdout"
        }
      ]
    },
    {
      "cell_type": "code",
      "metadata": {
        "id": "7fTbVJhEf9fo",
        "colab_type": "code",
        "colab": {}
      },
      "source": [
        "def print_values(students1):\n",
        "  print(students1.values())"
      ],
      "execution_count": 0,
      "outputs": []
    },
    {
      "cell_type": "code",
      "metadata": {
        "id": "pSRa4pFhhorS",
        "colab_type": "code",
        "colab": {
          "base_uri": "https://localhost:8080/",
          "height": 35
        },
        "outputId": "ab5e62eb-9533-41a0-8814-467573426d99"
      },
      "source": [
        "print_values(student2)"
      ],
      "execution_count": 32,
      "outputs": [
        {
          "output_type": "stream",
          "text": [
            "dict_values(['Meera', 23, 'female'])\n"
          ],
          "name": "stdout"
        }
      ]
    },
    {
      "cell_type": "code",
      "metadata": {
        "id": "piMJMQmoiSZv",
        "colab_type": "code",
        "colab": {
          "base_uri": "https://localhost:8080/",
          "height": 109
        },
        "outputId": "7387cb34-302a-4123-b2a2-fd2fb3054248"
      },
      "source": [
        "numbers= [1,2,3,4,5,6,7,8,9,10]\n",
        "def even_numbers(no):\n",
        "  for x in no:\n",
        "    if(x%2==0):\n",
        "     print(x)\n",
        "\n",
        "even_numbers(numbers)"
      ],
      "execution_count": 38,
      "outputs": [
        {
          "output_type": "stream",
          "text": [
            "2\n",
            "4\n",
            "6\n",
            "8\n",
            "10\n"
          ],
          "name": "stdout"
        }
      ]
    },
    {
      "cell_type": "code",
      "metadata": {
        "id": "S7WqXTEamZkv",
        "colab_type": "code",
        "colab": {}
      },
      "source": [
        "name = 'prerana'\n",
        "age = 21\n",
        "isfemale = True\n",
        "tenth = 77 "
      ],
      "execution_count": 0,
      "outputs": []
    },
    {
      "cell_type": "code",
      "metadata": {
        "id": "L0cC26bFyryI",
        "colab_type": "code",
        "colab": {
          "base_uri": "https://localhost:8080/",
          "height": 35
        },
        "outputId": "9fa6cfe5-41fd-4c82-bd76-9a5f3d803df9"
      },
      "source": [
        "type(age)"
      ],
      "execution_count": 40,
      "outputs": [
        {
          "output_type": "execute_result",
          "data": {
            "text/plain": [
              "int"
            ]
          },
          "metadata": {
            "tags": []
          },
          "execution_count": 40
        }
      ]
    },
    {
      "cell_type": "code",
      "metadata": {
        "id": "f3CjNDWoy7ds",
        "colab_type": "code",
        "colab": {}
      },
      "source": [
        "#type conversion\n",
        "#float - int\n",
        "#string - interger\n",
        "#integer - string\n",
        "#bool - string\n",
        "\n",
        "float means 1.2 \n",
        "integer means numbers\n",
        "string means 'aplabets'\n",
        "boolean means true or false\n"
      ],
      "execution_count": 0,
      "outputs": []
    },
    {
      "cell_type": "code",
      "metadata": {
        "id": "2nXoBopG0Zz3",
        "colab_type": "code",
        "colab": {
          "base_uri": "https://localhost:8080/",
          "height": 35
        },
        "outputId": "632fd7ad-f613-4d5d-ca65-355cd006210f"
      },
      "source": [
        "age = 21\n",
        "type(age)"
      ],
      "execution_count": 42,
      "outputs": [
        {
          "output_type": "execute_result",
          "data": {
            "text/plain": [
              "int"
            ]
          },
          "metadata": {
            "tags": []
          },
          "execution_count": 42
        }
      ]
    },
    {
      "cell_type": "code",
      "metadata": {
        "id": "EwO-d60H0egr",
        "colab_type": "code",
        "colab": {}
      },
      "source": [
        "age = float(age)"
      ],
      "execution_count": 0,
      "outputs": []
    },
    {
      "cell_type": "code",
      "metadata": {
        "id": "rSRgpTR70mwW",
        "colab_type": "code",
        "colab": {
          "base_uri": "https://localhost:8080/",
          "height": 35
        },
        "outputId": "89b24c9c-f0ba-426d-f7b0-042ddf64feb6"
      },
      "source": [
        "type(age)"
      ],
      "execution_count": 44,
      "outputs": [
        {
          "output_type": "execute_result",
          "data": {
            "text/plain": [
              "float"
            ]
          },
          "metadata": {
            "tags": []
          },
          "execution_count": 44
        }
      ]
    },
    {
      "cell_type": "code",
      "metadata": {
        "id": "d14raD-D0qn6",
        "colab_type": "code",
        "colab": {
          "base_uri": "https://localhost:8080/",
          "height": 35
        },
        "outputId": "6949cf20-423f-4eef-a567-11fe9bab47bd"
      },
      "source": [
        "number = 5.7\n",
        "type(number)"
      ],
      "execution_count": 45,
      "outputs": [
        {
          "output_type": "execute_result",
          "data": {
            "text/plain": [
              "float"
            ]
          },
          "metadata": {
            "tags": []
          },
          "execution_count": 45
        }
      ]
    },
    {
      "cell_type": "code",
      "metadata": {
        "id": "xweHmuW80zz_",
        "colab_type": "code",
        "colab": {}
      },
      "source": [
        "number=int(number)"
      ],
      "execution_count": 0,
      "outputs": []
    },
    {
      "cell_type": "code",
      "metadata": {
        "id": "NLm3X4AP043n",
        "colab_type": "code",
        "colab": {
          "base_uri": "https://localhost:8080/",
          "height": 35
        },
        "outputId": "eb31004f-9156-4638-eb03-6e3def0ae114"
      },
      "source": [
        "type(number)"
      ],
      "execution_count": 47,
      "outputs": [
        {
          "output_type": "execute_result",
          "data": {
            "text/plain": [
              "int"
            ]
          },
          "metadata": {
            "tags": []
          },
          "execution_count": 47
        }
      ]
    },
    {
      "cell_type": "code",
      "metadata": {
        "id": "fSVo8b1E080H",
        "colab_type": "code",
        "colab": {
          "base_uri": "https://localhost:8080/",
          "height": 35
        },
        "outputId": "570b5867-7959-4cba-c0be-7862713e223d"
      },
      "source": [
        "print(number)"
      ],
      "execution_count": 48,
      "outputs": [
        {
          "output_type": "stream",
          "text": [
            "5\n"
          ],
          "name": "stdout"
        }
      ]
    },
    {
      "cell_type": "code",
      "metadata": {
        "id": "JtavcktB1CU8",
        "colab_type": "code",
        "colab": {
          "base_uri": "https://localhost:8080/",
          "height": 35
        },
        "outputId": "9ec7368d-8ad9-44bb-c50b-c37bd5ca75f7"
      },
      "source": [
        "female = True\n",
        "type(female)"
      ],
      "execution_count": 49,
      "outputs": [
        {
          "output_type": "execute_result",
          "data": {
            "text/plain": [
              "bool"
            ]
          },
          "metadata": {
            "tags": []
          },
          "execution_count": 49
        }
      ]
    },
    {
      "cell_type": "code",
      "metadata": {
        "id": "loVQUKhZ1TT7",
        "colab_type": "code",
        "colab": {}
      },
      "source": [
        "female=str(female)"
      ],
      "execution_count": 0,
      "outputs": []
    },
    {
      "cell_type": "code",
      "metadata": {
        "id": "gYXGTqwA1ZOg",
        "colab_type": "code",
        "colab": {
          "base_uri": "https://localhost:8080/",
          "height": 35
        },
        "outputId": "14c1805d-c388-4c0d-f719-51c1629779ed"
      },
      "source": [
        "type(female)"
      ],
      "execution_count": 51,
      "outputs": [
        {
          "output_type": "execute_result",
          "data": {
            "text/plain": [
              "str"
            ]
          },
          "metadata": {
            "tags": []
          },
          "execution_count": 51
        }
      ]
    },
    {
      "cell_type": "code",
      "metadata": {
        "id": "F2QX45xC1fdk",
        "colab_type": "code",
        "colab": {
          "base_uri": "https://localhost:8080/",
          "height": 35
        },
        "outputId": "8aab9ea2-f991-47b5-99f9-75266ee09110"
      },
      "source": [
        "print(female)"
      ],
      "execution_count": 52,
      "outputs": [
        {
          "output_type": "stream",
          "text": [
            "True\n"
          ],
          "name": "stdout"
        }
      ]
    },
    {
      "cell_type": "code",
      "metadata": {
        "id": "4rxz1Z8t1i17",
        "colab_type": "code",
        "colab": {
          "base_uri": "https://localhost:8080/",
          "height": 35
        },
        "outputId": "9486d76e-5329-40cf-f595-5563f2154d83"
      },
      "source": [
        "name=\"prerana\"\n",
        "type(name)"
      ],
      "execution_count": 53,
      "outputs": [
        {
          "output_type": "execute_result",
          "data": {
            "text/plain": [
              "str"
            ]
          },
          "metadata": {
            "tags": []
          },
          "execution_count": 53
        }
      ]
    },
    {
      "cell_type": "code",
      "metadata": {
        "id": "MA3h0WRT11ke",
        "colab_type": "code",
        "colab": {
          "base_uri": "https://localhost:8080/",
          "height": 191
        },
        "outputId": "caa76169-ecad-4e5e-dbf0-b3d3ec5b4686"
      },
      "source": [
        "name = int(name)\n",
        "type(name)"
      ],
      "execution_count": 57,
      "outputs": [
        {
          "output_type": "error",
          "ename": "ValueError",
          "evalue": "ignored",
          "traceback": [
            "\u001b[0;31m---------------------------------------------------------------------------\u001b[0m",
            "\u001b[0;31mValueError\u001b[0m                                Traceback (most recent call last)",
            "\u001b[0;32m<ipython-input-57-824db4a40822>\u001b[0m in \u001b[0;36m<module>\u001b[0;34m()\u001b[0m\n\u001b[0;32m----> 1\u001b[0;31m \u001b[0mname\u001b[0m \u001b[0;34m=\u001b[0m \u001b[0mint\u001b[0m\u001b[0;34m(\u001b[0m\u001b[0mname\u001b[0m\u001b[0;34m)\u001b[0m\u001b[0;34m\u001b[0m\u001b[0;34m\u001b[0m\u001b[0m\n\u001b[0m\u001b[1;32m      2\u001b[0m \u001b[0mtype\u001b[0m\u001b[0;34m(\u001b[0m\u001b[0mname\u001b[0m\u001b[0;34m)\u001b[0m\u001b[0;34m\u001b[0m\u001b[0;34m\u001b[0m\u001b[0m\n",
            "\u001b[0;31mValueError\u001b[0m: invalid literal for int() with base 10: 'prerana'"
          ]
        }
      ]
    },
    {
      "cell_type": "code",
      "metadata": {
        "id": "nLy6aP1Q19fd",
        "colab_type": "code",
        "colab": {
          "base_uri": "https://localhost:8080/",
          "height": 35
        },
        "outputId": "d7c4e868-2e32-4b31-da75-90d011d8603b"
      },
      "source": [
        "age = 21\n",
        "type(age)"
      ],
      "execution_count": 58,
      "outputs": [
        {
          "output_type": "execute_result",
          "data": {
            "text/plain": [
              "int"
            ]
          },
          "metadata": {
            "tags": []
          },
          "execution_count": 58
        }
      ]
    },
    {
      "cell_type": "code",
      "metadata": {
        "id": "oovH3A332lLJ",
        "colab_type": "code",
        "colab": {}
      },
      "source": [
        "age=(str(age))"
      ],
      "execution_count": 0,
      "outputs": []
    },
    {
      "cell_type": "code",
      "metadata": {
        "id": "pHc8bnJA2shM",
        "colab_type": "code",
        "colab": {
          "base_uri": "https://localhost:8080/",
          "height": 35
        },
        "outputId": "597550a9-6f49-4bcd-a6c5-82c6cc306b87"
      },
      "source": [
        "type(age)"
      ],
      "execution_count": 60,
      "outputs": [
        {
          "output_type": "execute_result",
          "data": {
            "text/plain": [
              "str"
            ]
          },
          "metadata": {
            "tags": []
          },
          "execution_count": 60
        }
      ]
    },
    {
      "cell_type": "code",
      "metadata": {
        "id": "NPDiQ-0p6MFh",
        "colab_type": "code",
        "colab": {
          "base_uri": "https://localhost:8080/",
          "height": 202
        },
        "outputId": "a9d7f7c1-7c7a-4ddb-cafc-b9bb716c5d11"
      },
      "source": [
        "!pip install word2number"
      ],
      "execution_count": 62,
      "outputs": [
        {
          "output_type": "stream",
          "text": [
            "Collecting word2number\n",
            "  Downloading https://files.pythonhosted.org/packages/4a/29/a31940c848521f0725f0df6b25dca8917f13a2025b0e8fcbe5d0457e45e6/word2number-1.1.zip\n",
            "Building wheels for collected packages: word2number\n",
            "  Building wheel for word2number (setup.py) ... \u001b[?25l\u001b[?25hdone\n",
            "  Created wheel for word2number: filename=word2number-1.1-cp36-none-any.whl size=5587 sha256=2c41800cf337af5134f106b3e54a58a76b545da6a80da893c7768b841f5eb9bb\n",
            "  Stored in directory: /root/.cache/pip/wheels/46/2f/53/5f5c1d275492f2fce1cdab9a9bb12d49286dead829a4078e0e\n",
            "Successfully built word2number\n",
            "Installing collected packages: word2number\n",
            "Successfully installed word2number-1.1\n"
          ],
          "name": "stdout"
        }
      ]
    },
    {
      "cell_type": "code",
      "metadata": {
        "id": "NEYItahq2ufQ",
        "colab_type": "code",
        "colab": {}
      },
      "source": [
        "import word2number\n",
        "from word2number import w2n"
      ],
      "execution_count": 0,
      "outputs": []
    },
    {
      "cell_type": "code",
      "metadata": {
        "id": "030S_MzL6G_O",
        "colab_type": "code",
        "colab": {
          "base_uri": "https://localhost:8080/",
          "height": 35
        },
        "outputId": "f111faef-133b-45c2-a72a-0ecc778a7c4f"
      },
      "source": [
        "w2n.word_to_num(\"one thousand\")"
      ],
      "execution_count": 69,
      "outputs": [
        {
          "output_type": "execute_result",
          "data": {
            "text/plain": [
              "1000"
            ]
          },
          "metadata": {
            "tags": []
          },
          "execution_count": 69
        }
      ]
    },
    {
      "cell_type": "code",
      "metadata": {
        "id": "B3NELKmJ6e4w",
        "colab_type": "code",
        "colab": {}
      },
      "source": [
        "#importing libraries for consumption\n",
        "#decision tree"
      ],
      "execution_count": 0,
      "outputs": []
    }
  ]
}